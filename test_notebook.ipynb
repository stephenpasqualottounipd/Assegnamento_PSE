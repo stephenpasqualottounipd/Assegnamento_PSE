{
  "nbformat": 4,
  "nbformat_minor": 0,
  "metadata": {
    "colab": {
      "name": "test_notebook.ipynb",
      "provenance": []
    },
    "kernelspec": {
      "name": "python3",
      "display_name": "Python 3"
    }
  },
  "cells": [
    {
      "cell_type": "markdown",
      "metadata": {
        "id": "S1afHVO6cQkd"
      },
      "source": [
        "# Welcome to your first Google Colaboratory notebook!\n",
        "\n",
        "\"Colab\" allows you to write and execute Python in your browser, with zero configuration.\n",
        "\n",
        "A **Colab notebook** is an interactive environment where you can write text as inthe *text cell* you are reading, or writing and executing code as in the following cell:"
      ]
    },
    {
      "cell_type": "code",
      "metadata": {
        "id": "zZnNOPeXdLUh",
        "outputId": "ee7e65f8-217e-4e5a-e8d9-570f1115cdcc",
        "colab": {
          "base_uri": "https://localhost:8080/"
        }
      },
      "source": [
        "# click the arrow on the left to run the code\n",
        "for i in range(5):\n",
        "  print(\"Hello, World!\")"
      ],
      "execution_count": 2,
      "outputs": [
        {
          "output_type": "stream",
          "name": "stdout",
          "text": [
            "Hello, World!\n",
            "Hello, World!\n",
            "Hello, World!\n",
            "Hello, World!\n",
            "Hello, World!\n"
          ]
        }
      ]
    },
    {
      "cell_type": "markdown",
      "metadata": {
        "id": "mh3tqI-VdYhV"
      },
      "source": [
        "Feel free to change this notebook: change/add text and code cells.\n",
        "\n",
        "When you are done store the notebook back to GitHub."
      ]
    }
  ]
}